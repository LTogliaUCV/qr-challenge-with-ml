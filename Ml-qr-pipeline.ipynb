{
 "cells": [
  {
   "cell_type": "markdown",
   "id": "d5751530",
   "metadata": {},
   "source": [
    "## Generating QR images for the model training\n"
   ]
  },
  {
   "cell_type": "code",
   "execution_count": 15,
   "id": "88cf5ccb",
   "metadata": {},
   "outputs": [],
   "source": [
    "import os\n",
    "import qrcode\n",
    "import cv2\n",
    "import numpy as np\n",
    "from zxing import *\n",
    "from keras.preprocessing import image\n",
    "import tensorflow as tf\n",
    "\n",
    "# Crea un directorio para guardar los códigos QR\n",
    "if not os.path.exists('qr_codes'):\n",
    "    os.makedirs('qr_codes')\n",
    "\n",
    "# Genera 1000 códigos QR aleatorios y los guarda en el directorio\n",
    "for i in range(1000):\n",
    "    data = 'QR code ' + str(i)\n",
    "    filename = 'qr_codes/qr_code_' + str(i) + '.png'\n",
    "    qr = qrcode.QRCode(version=1, box_size=10, border=4)\n",
    "    qr.add_data(data)\n",
    "    qr.make(fit=True)\n",
    "    img = qr.make_image(fill_color=\"black\", back_color=\"white\")\n",
    "    img.save(filename)\n"
   ]
  },
  {
   "cell_type": "markdown",
   "id": "883621f9",
   "metadata": {},
   "source": [
    "## Generate model parameters"
   ]
  },
  {
   "cell_type": "code",
   "execution_count": 9,
   "id": "48869ff8",
   "metadata": {},
   "outputs": [],
   "source": [
    "# Carga las imágenes de los códigos QR\n",
    "X = []\n",
    "for i in range(1000):\n",
    "    filename = 'qr_codes/qr_code_' + str(i) + '.png'\n",
    "    img = cv2.imread(filename, cv2.IMREAD_GRAYSCALE)  # Carga la imagen en escala de grises\n",
    "    img = cv2.resize(img, (100, 100))  # Redimensiona la imagen\n",
    "\n",
    "    # Agrega la imagen preprocesada a la lista de características\n",
    "    X.append(img)"
   ]
  },
  {
   "cell_type": "code",
   "execution_count": 10,
   "id": "78ac2ce6",
   "metadata": {},
   "outputs": [],
   "source": [
    "# Convierte la lista de características en un ndarray\n",
    "X = np.array(X)\n",
    "\n",
    "# Carga las etiquetas de los códigos QR\n",
    "y = []\n",
    "for i in range(1000):\n",
    "    data = i\n",
    "    y.append(data)\n",
    "\n",
    "# Convierte la lista de etiquetas en un ndarray\n",
    "y = np.array(y)\n",
    "\n",
    "# Agrega una dimensión adicional para el número de canales\n",
    "X = np.expand_dims(X, axis=-1)"
   ]
  },
  {
   "cell_type": "code",
   "execution_count": 11,
   "id": "60fda4f0",
   "metadata": {},
   "outputs": [],
   "source": [
    "## Building the CNN model"
   ]
  },
  {
   "cell_type": "code",
   "execution_count": 12,
   "id": "38bcd2fa",
   "metadata": {},
   "outputs": [
    {
     "name": "stdout",
     "output_type": "stream",
     "text": [
      "Epoch 1/10\n",
      "32/32 [==============================] - 2s 68ms/step - loss: 15.4108 - accuracy: 0.0000e+00\n",
      "Epoch 2/10\n",
      "32/32 [==============================] - 2s 68ms/step - loss: 6.9098 - accuracy: 0.0000e+00\n",
      "Epoch 3/10\n",
      "32/32 [==============================] - 2s 68ms/step - loss: 6.9092 - accuracy: 0.0000e+00\n",
      "Epoch 4/10\n",
      "32/32 [==============================] - 2s 69ms/step - loss: 6.9101 - accuracy: 0.0020\n",
      "Epoch 5/10\n",
      "32/32 [==============================] - 2s 69ms/step - loss: 6.8998 - accuracy: 0.0010\n",
      "Epoch 6/10\n",
      "32/32 [==============================] - 2s 69ms/step - loss: 6.8319 - accuracy: 0.0030\n",
      "Epoch 7/10\n",
      "32/32 [==============================] - 2s 68ms/step - loss: 6.9440 - accuracy: 0.0040\n",
      "Epoch 8/10\n",
      "32/32 [==============================] - 2s 68ms/step - loss: 6.9076 - accuracy: 0.0000e+00\n",
      "Epoch 9/10\n",
      "32/32 [==============================] - 2s 68ms/step - loss: 6.8985 - accuracy: 0.0030\n",
      "Epoch 10/10\n",
      "32/32 [==============================] - 2s 68ms/step - loss: 6.9074 - accuracy: 0.0000e+00\n"
     ]
    }
   ],
   "source": [
    "# Agrega una dimensión adicional para el número de canales\n",
    "X = np.expand_dims(X, axis=-1)\n",
    "\n",
    "# Construye el modelo CNN\n",
    "model = tf.keras.Sequential([\n",
    "    tf.keras.layers.Conv2D(32, (3, 3), activation='relu', input_shape=(100, 100, 1)),\n",
    "    tf.keras.layers.MaxPooling2D((2, 2)),\n",
    "    tf.keras.layers.Conv2D(64, (3, 3), activation='relu'),\n",
    "    tf.keras.layers.MaxPooling2D((2, 2)),\n",
    "    tf.keras.layers.Conv2D(64, (3, 3), activation='relu'),\n",
    "    tf.keras.layers.Flatten(),\n",
    "    tf.keras.layers.Dense(64, activation='relu'),\n",
    "    tf.keras.layers.Dense(1000)\n",
    "])\n",
    "\n",
    "# Compila el modelo\n",
    "model.compile(optimizer='adam',\n",
    "              loss=tf.keras.losses.SparseCategoricalCrossentropy(from_logits=True),\n",
    "              metrics=['accuracy'])\n",
    "\n",
    "# Entrena el modelo con los datos preprocesados\n",
    "model.fit(X, y, epochs=10, batch_size=32)\n",
    "\n",
    "\n",
    "# Guarda el modelo en un archivo HDF5\n",
    "model.save('qr-challenge-with-ml/qr_model.keras')"
   ]
  },
  {
   "cell_type": "code",
   "execution_count": 13,
   "id": "6100d0cc",
   "metadata": {},
   "outputs": [],
   "source": [
    "## Make a prediction"
   ]
  },
  {
   "cell_type": "code",
   "execution_count": 16,
   "id": "28a9b07e",
   "metadata": {},
   "outputs": [
    {
     "name": "stdout",
     "output_type": "stream",
     "text": [
      "QR code: ['QR code 1001', 'QR code 1001', 'file:///Users/toglia/Documents/qr-challenge-with-ml/temp_img.png', 'QR_CODE', 'TEXT', [(75.0, 215.0), (75.0, 75.0), (215.0, 75.0)]]\n",
      "1/1 [==============================] - 0s 56ms/step\n",
      "Predicción: QR code 549\n"
     ]
    }
   ],
   "source": [
    "# Crea un diccionario que asocia cada etiqueta numérica con un nombre de objeto\n",
    "label_map = {i: 'QR code ' + str(i) for i in range(1000)}\n",
    "\n",
    "# Carga una imagen con un código QR\n",
    "img = cv2.imread('qr_code_test.png')\n",
    "\n",
    "# Guarda la imagen en un archivo temporal\n",
    "cv2.imwrite('temp_img.png', img)\n",
    "\n",
    "# Crea un objeto de detector de códigos QR\n",
    "detector = BarCodeReader()\n",
    "\n",
    "# Detecta los códigos QR en la imagen\n",
    "barcode = detector.decode('temp_img.png')\n",
    "\n",
    "# Convierte el objeto BarCode a una lista\n",
    "if barcode is not None:\n",
    "    barcode_list = list(vars(barcode).values())\n",
    "    print('QR code:', barcode_list)\n",
    "\n",
    "    # Decodifica el contenido de los códigos QR encontrados\n",
    "    x, y = barcode_list[5][0]\n",
    "    w, h = barcode_list[5][2]\n",
    "    roi = img[int(y):int(y+h), int(x):int(x+w)]\n",
    "    roi = cv2.resize(roi, (100, 100))\n",
    "    roi = cv2.cvtColor(roi, cv2.COLOR_BGR2GRAY)  # Convierte a escala de grises\n",
    "    roi = np.expand_dims(roi, axis=0)\n",
    "    roi = np.expand_dims(roi, axis=-1)  # Agrega una dimensión para el número de canales\n",
    "\n",
    "    # Haga una predicción utilizando el modelo\n",
    "    prediction = model.predict(roi)\n",
    "    predicted_class = np.argmax(prediction, axis=-1)[0]  # Índice de la clase predicha\n",
    "    predicted_label = label_map[predicted_class]  # Etiqueta correspondiente a la clase predicha\n",
    "    print('Predicción:', predicted_label)\n",
    "\n",
    "# Borra el archivo temporal\n",
    "os.remove('temp_img.png')"
   ]
  },
  {
   "cell_type": "code",
   "execution_count": null,
   "id": "9b22c1a6",
   "metadata": {},
   "outputs": [],
   "source": []
  }
 ],
 "metadata": {
  "kernelspec": {
   "display_name": "Python 3 (ipykernel)",
   "language": "python",
   "name": "python3"
  },
  "language_info": {
   "codemirror_mode": {
    "name": "ipython",
    "version": 3
   },
   "file_extension": ".py",
   "mimetype": "text/x-python",
   "name": "python",
   "nbconvert_exporter": "python",
   "pygments_lexer": "ipython3",
   "version": "3.9.6"
  }
 },
 "nbformat": 4,
 "nbformat_minor": 5
}
